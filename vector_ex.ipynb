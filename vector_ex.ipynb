{
  "nbformat": 4,
  "nbformat_minor": 0,
  "metadata": {
    "colab": {
      "name": "vector_ex",
      "provenance": [],
      "collapsed_sections": [],
      "authorship_tag": "ABX9TyOjY6Q3mPz1sJANivxSleaB",
      "include_colab_link": true
    },
    "kernelspec": {
      "name": "python3",
      "display_name": "Python 3"
    },
    "language_info": {
      "name": "python"
    }
  },
  "cells": [
    {
      "cell_type": "markdown",
      "metadata": {
        "id": "view-in-github",
        "colab_type": "text"
      },
      "source": [
        "<a href=\"https://colab.research.google.com/github/EON-JOO/AI-pre-course/blob/main/vector_ex.ipynb\" target=\"_parent\"><img src=\"https://colab.research.google.com/assets/colab-badge.svg\" alt=\"Open In Colab\"/></a>"
      ]
    },
    {
      "cell_type": "markdown",
      "source": [
        "#Vector"
      ],
      "metadata": {
        "id": "q7mM1tle88rk"
      }
    },
    {
      "cell_type": "code",
      "execution_count": 1,
      "metadata": {
        "id": "wiIBIFXZ8lXK"
      },
      "outputs": [],
      "source": [
        "import numpy as np"
      ]
    },
    {
      "cell_type": "code",
      "source": [
        "x = np.array([1, 7, 2])\n",
        "y = np.array([5, 2, 1])"
      ],
      "metadata": {
        "id": "FeTM6scy8vkm"
      },
      "execution_count": 2,
      "outputs": []
    },
    {
      "cell_type": "code",
      "source": [
        "x + y"
      ],
      "metadata": {
        "colab": {
          "base_uri": "https://localhost:8080/"
        },
        "id": "y0_C23-s8z1m",
        "outputId": "bd2f59c7-020d-42d2-dbd4-625b7683c823"
      },
      "execution_count": 3,
      "outputs": [
        {
          "output_type": "execute_result",
          "data": {
            "text/plain": [
              "array([6, 9, 3])"
            ]
          },
          "metadata": {},
          "execution_count": 3
        }
      ]
    },
    {
      "cell_type": "code",
      "source": [
        "x - y"
      ],
      "metadata": {
        "colab": {
          "base_uri": "https://localhost:8080/"
        },
        "id": "RlNNR9q881AX",
        "outputId": "79a63ede-32ef-4b8c-9584-f93d0b5b9eeb"
      },
      "execution_count": 5,
      "outputs": [
        {
          "output_type": "execute_result",
          "data": {
            "text/plain": [
              "array([-4,  5,  1])"
            ]
          },
          "metadata": {},
          "execution_count": 5
        }
      ]
    },
    {
      "cell_type": "code",
      "source": [
        "x * y # 성분곱"
      ],
      "metadata": {
        "colab": {
          "base_uri": "https://localhost:8080/"
        },
        "id": "GlJeiJce82NC",
        "outputId": "856b4de4-e0b4-4f27-bfda-3c2b5465f0a2"
      },
      "execution_count": 6,
      "outputs": [
        {
          "output_type": "execute_result",
          "data": {
            "text/plain": [
              "array([ 5, 14,  2])"
            ]
          },
          "metadata": {},
          "execution_count": 6
        }
      ]
    },
    {
      "cell_type": "markdown",
      "source": [
        "#Norm"
      ],
      "metadata": {
        "id": "SLUMav5F9HH_"
      }
    },
    {
      "cell_type": "code",
      "source": [
        "# L1-norm\n",
        "def l1_norm(x):\n",
        "  x_norm = np.abs(x) # 절댓값\n",
        "  x_norm = np.sum(x_norm) # 누적합\n",
        "  return x_norm"
      ],
      "metadata": {
        "id": "Qp_9kc7q9Ieb"
      },
      "execution_count": 7,
      "outputs": []
    },
    {
      "cell_type": "code",
      "source": [
        "l1_norm(x)"
      ],
      "metadata": {
        "colab": {
          "base_uri": "https://localhost:8080/"
        },
        "id": "fDA50qZy9ZDU",
        "outputId": "dcb1d624-e54b-476e-b965-4de6d11678a1"
      },
      "execution_count": 8,
      "outputs": [
        {
          "output_type": "execute_result",
          "data": {
            "text/plain": [
              "10"
            ]
          },
          "metadata": {},
          "execution_count": 8
        }
      ]
    },
    {
      "cell_type": "code",
      "source": [
        "# L2-norm\n",
        "def l2_norm(x):\n",
        "  x_norm = x * x\n",
        "  x_norm = np.sum(x_norm)\n",
        "  x_norm = np.sqrt(x_norm)\n",
        "  return x_norm"
      ],
      "metadata": {
        "id": "GwzZLLCP9b4u"
      },
      "execution_count": 9,
      "outputs": []
    },
    {
      "cell_type": "code",
      "source": [
        "l2_norm(x)"
      ],
      "metadata": {
        "colab": {
          "base_uri": "https://localhost:8080/"
        },
        "id": "Rr_MTXml9w5I",
        "outputId": "c5223f02-1d7f-40d8-d235-7921f0f34d7b"
      },
      "execution_count": 10,
      "outputs": [
        {
          "output_type": "execute_result",
          "data": {
            "text/plain": [
              "7.3484692283495345"
            ]
          },
          "metadata": {},
          "execution_count": 10
        }
      ]
    },
    {
      "cell_type": "code",
      "source": [
        "np.sqrt(1 + 49 + 4)"
      ],
      "metadata": {
        "colab": {
          "base_uri": "https://localhost:8080/"
        },
        "id": "j1xmGBEa9yBs",
        "outputId": "ee2d2cac-cf89-404e-fa6e-50ae66206724"
      },
      "execution_count": 11,
      "outputs": [
        {
          "output_type": "execute_result",
          "data": {
            "text/plain": [
              "7.3484692283495345"
            ]
          },
          "metadata": {},
          "execution_count": 11
        }
      ]
    },
    {
      "cell_type": "markdown",
      "source": [
        "#두 벡터 사이의 각도 구하기"
      ],
      "metadata": {
        "id": "dUVjNMTT99lC"
      }
    },
    {
      "cell_type": "code",
      "source": [
        "def angle(x, y):\n",
        "  v = np.inner(x, y) / (l2_norm(x) * l2_norm(y))\n",
        "  theta = np.arccos(v)\n",
        "  return theta"
      ],
      "metadata": {
        "id": "wGvVBXVY95S2"
      },
      "execution_count": 12,
      "outputs": []
    },
    {
      "cell_type": "code",
      "source": [
        "angle(x, y)"
      ],
      "metadata": {
        "colab": {
          "base_uri": "https://localhost:8080/"
        },
        "id": "vBBbhwbE-WP5",
        "outputId": "2f22a266-4300-4436-f567-a948399d1b97"
      },
      "execution_count": 13,
      "outputs": [
        {
          "output_type": "execute_result",
          "data": {
            "text/plain": [
              "1.0218962578343371"
            ]
          },
          "metadata": {},
          "execution_count": 13
        }
      ]
    },
    {
      "cell_type": "code",
      "source": [
        "tmp = (5 + 14 + 2) / (l2_norm(x) * l2_norm(y))\n",
        "np.arccos(tmp)"
      ],
      "metadata": {
        "colab": {
          "base_uri": "https://localhost:8080/"
        },
        "id": "DIO9fB6f-Xha",
        "outputId": "9ab6f4cf-2d98-4318-f256-cf60f9577ea8"
      },
      "execution_count": 14,
      "outputs": [
        {
          "output_type": "execute_result",
          "data": {
            "text/plain": [
              "1.0218962578343371"
            ]
          },
          "metadata": {},
          "execution_count": 14
        }
      ]
    }
  ]
}