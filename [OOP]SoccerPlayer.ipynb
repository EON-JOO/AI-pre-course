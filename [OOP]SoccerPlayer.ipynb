{
  "nbformat": 4,
  "nbformat_minor": 0,
  "metadata": {
    "colab": {
      "name": "[OOP]SoccerPlayer.ipynb",
      "provenance": [],
      "collapsed_sections": [],
      "mount_file_id": "13ctrX0AwJngE5Sn8zOlR5DVsE0LIavnG",
      "authorship_tag": "ABX9TyOz5EjD+w2WxYMBfw4GwCzA",
      "include_colab_link": true
    },
    "kernelspec": {
      "name": "python3",
      "display_name": "Python 3"
    },
    "language_info": {
      "name": "python"
    }
  },
  "cells": [
    {
      "cell_type": "markdown",
      "metadata": {
        "id": "view-in-github",
        "colab_type": "text"
      },
      "source": [
        "<a href=\"https://colab.research.google.com/github/EON-JOO/AI-pre-course/blob/main/%5BOOP%5DSoccerPlayer.ipynb\" target=\"_parent\"><img src=\"https://colab.research.google.com/assets/colab-badge.svg\" alt=\"Open In Colab\"/></a>"
      ]
    },
    {
      "cell_type": "code",
      "execution_count": null,
      "metadata": {
        "id": "vBtDEczXwRzN"
      },
      "outputs": [],
      "source": [
        "class SoccerPlayer(object):\n",
        "  def __init__(self, name, position, back_number):\n",
        "    self.name = name\n",
        "    self.position = position\n",
        "    self.back_number = back_number\n",
        "\n",
        "  def change_back_number(self, new_number):\n",
        "    print(\"선수의 등번호를 변경합니다 : From %d to %d\" % (self.back_number, new_number))\n",
        "    self.back_number = new_number\n",
        "  \n",
        "  def __str__(self):\n",
        "    return \"Hello, My name is %s. I play in %s in center\" % (self.name, self.position)"
      ]
    },
    {
      "cell_type": "code",
      "source": [
        "jinhyun = SoccerPlayer(\"Jinhyun\", \"MF\", 10)\n",
        "print(jinhyun)"
      ],
      "metadata": {
        "colab": {
          "base_uri": "https://localhost:8080/"
        },
        "id": "gtj217nyxaiK",
        "outputId": "fe8633b5-d856-44a2-8805-97c480ba8aae"
      },
      "execution_count": null,
      "outputs": [
        {
          "output_type": "stream",
          "name": "stdout",
          "text": [
            "Hello, My name is Jinhyun. I play in MF in center\n"
          ]
        }
      ]
    },
    {
      "cell_type": "code",
      "source": [
        "print(\"현재 선수의 등번호는 :\", jinhyun.back_number)"
      ],
      "metadata": {
        "colab": {
          "base_uri": "https://localhost:8080/"
        },
        "id": "TL8wAN_Ex0Dq",
        "outputId": "e36ca2fb-d361-49ee-ca1f-16e5cef7fb06"
      },
      "execution_count": null,
      "outputs": [
        {
          "output_type": "stream",
          "name": "stdout",
          "text": [
            "현재 선수의 등번호는 : 10\n"
          ]
        }
      ]
    },
    {
      "cell_type": "code",
      "source": [
        "jinhyun.change_back_number(5)\n",
        "print(\"현재 선수의 등번호는 :\", jinhyun.back_number)"
      ],
      "metadata": {
        "colab": {
          "base_uri": "https://localhost:8080/"
        },
        "id": "_jHmyUFdxkmG",
        "outputId": "8f72a34d-afa6-4599-c6f7-acf52b9062b4"
      },
      "execution_count": null,
      "outputs": [
        {
          "output_type": "stream",
          "name": "stdout",
          "text": [
            "선수의 등번호를 변경합니다 : From 10 to 5\n",
            "현재 선수의 등번호는 : 5\n"
          ]
        }
      ]
    },
    {
      "cell_type": "code",
      "source": [
        "jinhyun.back_number = 7\n",
        "print(\"현재 선수의 등번호는 :\", jinhyun.back_number)\n",
        "# 이렇게도 바꿀 수 있으나 권장하지 않음"
      ],
      "metadata": {
        "colab": {
          "base_uri": "https://localhost:8080/"
        },
        "id": "oTakwmb_xv3Z",
        "outputId": "00bc17c6-5433-4a79-d3e9-3d872784d952"
      },
      "execution_count": null,
      "outputs": [
        {
          "output_type": "stream",
          "name": "stdout",
          "text": [
            "현재 선수의 등번호는 : 7\n"
          ]
        }
      ]
    }
  ]
}