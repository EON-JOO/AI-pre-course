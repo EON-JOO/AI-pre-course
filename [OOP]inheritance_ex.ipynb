{
  "nbformat": 4,
  "nbformat_minor": 0,
  "metadata": {
    "colab": {
      "name": "[OOP]inheritance_ex.ipynb",
      "provenance": [],
      "collapsed_sections": [],
      "authorship_tag": "ABX9TyNGvr3O/hRHQ7L4nd1P+00I",
      "include_colab_link": true
    },
    "kernelspec": {
      "name": "python3",
      "display_name": "Python 3"
    },
    "language_info": {
      "name": "python"
    }
  },
  "cells": [
    {
      "cell_type": "markdown",
      "metadata": {
        "id": "view-in-github",
        "colab_type": "text"
      },
      "source": [
        "<a href=\"https://colab.research.google.com/github/EON-JOO/AI-pre-course/blob/main/%5BOOP%5Dinheritance_ex.ipynb\" target=\"_parent\"><img src=\"https://colab.research.google.com/assets/colab-badge.svg\" alt=\"Open In Colab\"/></a>"
      ]
    },
    {
      "cell_type": "code",
      "execution_count": 1,
      "metadata": {
        "id": "bivkH6o1B0Xa"
      },
      "outputs": [],
      "source": [
        "class Person(object): # 부모 클래스 Person 선언\n",
        "  def __init__(self, name, age, gender):\n",
        "    self.name = name\n",
        "    self.age = age\n",
        "    self.gender = gender\n",
        "\n",
        "  def about_me(self): # Method 선언\n",
        "    print(\"저의 이름은 \", self.name, \"이구요, 제 나이는 \", self.age, \"살입니다.\")"
      ]
    },
    {
      "cell_type": "code",
      "source": [
        "class Employee(Person): # 부모 클래스 Person으로부터 상속\n",
        "  def __init__(self, name, age, gender, salary, hire_date):\n",
        "    super().__init__(name, age, gender)\n",
        "    self.salary = salary\n",
        "    self.hire_date = hire_date # 속성값 추가\n",
        "\n",
        "  def do_work(self):\n",
        "    print(\"열심히 일을 합니다.\")\n",
        "\n",
        "  def about_me(self):\n",
        "    super().about_me()\n",
        "    print(\"제 급여는 \", self.salary, \"원 이구요, 제 입사일은 \", self.hire_date, \" 입니다.\")"
      ],
      "metadata": {
        "id": "qO9ja0YICO_x"
      },
      "execution_count": 8,
      "outputs": []
    },
    {
      "cell_type": "code",
      "source": [
        "Kim = Employee(\"Sungchul\", 35, \"남성\", 100, \"3월 7일\")\n",
        "Kim.about_me()"
      ],
      "metadata": {
        "colab": {
          "base_uri": "https://localhost:8080/"
        },
        "id": "2UTEw4G1DAgf",
        "outputId": "802b1bed-95f9-4e08-9c22-bc91b90a08bd"
      },
      "execution_count": 9,
      "outputs": [
        {
          "output_type": "stream",
          "name": "stdout",
          "text": [
            "저의 이름은  Sungchul 이구요, 제 나이는  35 살입니다.\n",
            "제 급여는  100 원 이구요, 제 입사일은  3월 7일  입니다.\n"
          ]
        }
      ]
    }
  ]
}