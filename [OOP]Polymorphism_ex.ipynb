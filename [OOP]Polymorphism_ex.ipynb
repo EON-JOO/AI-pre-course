{
  "nbformat": 4,
  "nbformat_minor": 0,
  "metadata": {
    "colab": {
      "name": "[OOP]Polymorphism_ex.ipynb",
      "provenance": [],
      "collapsed_sections": [],
      "authorship_tag": "ABX9TyPOomtN7fXnTvJZijZlnJxR",
      "include_colab_link": true
    },
    "kernelspec": {
      "name": "python3",
      "display_name": "Python 3"
    },
    "language_info": {
      "name": "python"
    }
  },
  "cells": [
    {
      "cell_type": "markdown",
      "metadata": {
        "id": "view-in-github",
        "colab_type": "text"
      },
      "source": [
        "<a href=\"https://colab.research.google.com/github/EON-JOO/AI-pre-course/blob/main/%5BOOP%5DPolymorphism_ex.ipynb\" target=\"_parent\"><img src=\"https://colab.research.google.com/assets/colab-badge.svg\" alt=\"Open In Colab\"/></a>"
      ]
    },
    {
      "cell_type": "code",
      "execution_count": 1,
      "metadata": {
        "id": "IXeF_GgbEQV5"
      },
      "outputs": [],
      "source": [
        "class Animal(object):\n",
        "  def __init__(self, name):\n",
        "    self.name = name\n",
        "\n",
        "  def talk(self):\n",
        "    raise NotImplementedError(\"Subclass must implement abstract method\")\n",
        "\n",
        "class Cat(Animal):\n",
        "  def talk(self):\n",
        "    return 'Meow!'\n",
        "\n",
        "class Dog(Animal):\n",
        "  def talk(self):\n",
        "    return 'Woof! Woof!'"
      ]
    },
    {
      "cell_type": "code",
      "source": [
        "animals = [Cat('Missy'),\n",
        "           Cat('Mr.Mistoffelees'),\n",
        "           Dog('Lassie')]"
      ],
      "metadata": {
        "id": "g8kmNNBuE0OB"
      },
      "execution_count": 2,
      "outputs": []
    },
    {
      "cell_type": "code",
      "source": [
        "for animal in animals:\n",
        "  print(animal.name + ' : ' + animal.talk())"
      ],
      "metadata": {
        "colab": {
          "base_uri": "https://localhost:8080/"
        },
        "id": "KSuwXDfXE791",
        "outputId": "328528da-72c6-4e3d-a4a9-6160b15bb7d9"
      },
      "execution_count": 5,
      "outputs": [
        {
          "output_type": "stream",
          "name": "stdout",
          "text": [
            "Missy : Meow!\n",
            "Mr.Mistoffelees : Meow!\n",
            "Lassie : Woof! Woof!\n"
          ]
        }
      ]
    }
  ]
}