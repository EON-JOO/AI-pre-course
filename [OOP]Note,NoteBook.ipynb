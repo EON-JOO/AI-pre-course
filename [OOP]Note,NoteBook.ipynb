{
  "nbformat": 4,
  "nbformat_minor": 0,
  "metadata": {
    "colab": {
      "name": "[OOP]Note,NoteBook.ipynb",
      "provenance": [],
      "authorship_tag": "ABX9TyN5VYeOAxVQYCj2XMv0zKtv",
      "include_colab_link": true
    },
    "kernelspec": {
      "name": "python3",
      "display_name": "Python 3"
    },
    "language_info": {
      "name": "python"
    }
  },
  "cells": [
    {
      "cell_type": "markdown",
      "metadata": {
        "id": "view-in-github",
        "colab_type": "text"
      },
      "source": [
        "<a href=\"https://colab.research.google.com/github/EON-JOO/AI-pre-course/blob/main/%5BOOP%5DNote%2CNoteBook.ipynb\" target=\"_parent\"><img src=\"https://colab.research.google.com/assets/colab-badge.svg\" alt=\"Open In Colab\"/></a>"
      ]
    },
    {
      "cell_type": "code",
      "execution_count": 16,
      "metadata": {
        "id": "j2KTUga05-QD"
      },
      "outputs": [],
      "source": [
        "class Note(object):\n",
        "  def __init__(self, content = None):\n",
        "    self.content = content\n",
        "  \n",
        "  def write_content(self, content):\n",
        "    self.content = content\n",
        "\n",
        "  def remove_all(self):\n",
        "    self.content = \"\"\n",
        "\n",
        "  def __add__(self, other):\n",
        "    return self.content + other.content\n",
        "\n",
        "  def __str__(self):\n",
        "    return \"노트에 적힌 내용입니다 : %s\" % (self.content)"
      ]
    },
    {
      "cell_type": "code",
      "source": [
        "class NoteBook(object):\n",
        "  def __init__(self, title):\n",
        "    self.title = title\n",
        "    self.page_number = 1\n",
        "    self.notes = {}\n",
        "\n",
        "  def add_note(self, note, page = 0):\n",
        "    if self.page_number < 301:\n",
        "      if page == 0:\n",
        "        self.notes[self.page_number] = note\n",
        "        self.page_number += 1\n",
        "      else:\n",
        "        self.notes[page] = note\n",
        "        self.page_number += 1\n",
        "    else:\n",
        "      print(\"Page가 모두 채워졌습니다.\")\n",
        "\n",
        "  def remove_note(self, page_number):\n",
        "    if page_number in self.notes.keys():\n",
        "      return self.notes.pop(page_number)\n",
        "    else:\n",
        "      print(\"해당 페이지는 존재하지 않습니다.\")\n",
        "\n",
        "  def get_number_of_pages(self):\n",
        "    return len(self.notes.keys())"
      ],
      "metadata": {
        "id": "ths0NCdd6mkD"
      },
      "execution_count": 31,
      "outputs": []
    },
    {
      "cell_type": "code",
      "source": [
        "note1 = Note(\"안녕\")\n",
        "print(note1)"
      ],
      "metadata": {
        "colab": {
          "base_uri": "https://localhost:8080/"
        },
        "id": "mA4A3fqX7o4S",
        "outputId": "077b4085-a246-437a-fdd2-691e82f1468d"
      },
      "execution_count": 18,
      "outputs": [
        {
          "output_type": "stream",
          "name": "stdout",
          "text": [
            "노트에 적힌 내용입니다 : 안녕\n"
          ]
        }
      ]
    },
    {
      "cell_type": "code",
      "source": [
        "note2 = Note(\"반가워\")\n",
        "print(note2)"
      ],
      "metadata": {
        "colab": {
          "base_uri": "https://localhost:8080/"
        },
        "id": "nuqgqry_7zwB",
        "outputId": "6fdd1625-7338-4740-9c1e-fcaa97f3aa8c"
      },
      "execution_count": 19,
      "outputs": [
        {
          "output_type": "stream",
          "name": "stdout",
          "text": [
            "노트에 적힌 내용입니다 : 반가워\n"
          ]
        }
      ]
    },
    {
      "cell_type": "code",
      "source": [
        "note1.__add__(note2)"
      ],
      "metadata": {
        "colab": {
          "base_uri": "https://localhost:8080/",
          "height": 35
        },
        "id": "wdYSgLVD76Tv",
        "outputId": "1a57a70a-358c-43d0-e0e9-77de03f9cc38"
      },
      "execution_count": 20,
      "outputs": [
        {
          "output_type": "execute_result",
          "data": {
            "text/plain": [
              "'안녕반가워'"
            ],
            "application/vnd.google.colaboratory.intrinsic+json": {
              "type": "string"
            }
          },
          "metadata": {},
          "execution_count": 20
        }
      ]
    },
    {
      "cell_type": "code",
      "source": [
        "note1.remove_all()\n",
        "print(note1)"
      ],
      "metadata": {
        "colab": {
          "base_uri": "https://localhost:8080/"
        },
        "id": "m2Kt-jvH8GbM",
        "outputId": "c989c541-e88e-4df7-ba80-916e8a536932"
      },
      "execution_count": 21,
      "outputs": [
        {
          "output_type": "stream",
          "name": "stdout",
          "text": [
            "노트에 적힌 내용입니다 : \n"
          ]
        }
      ]
    },
    {
      "cell_type": "code",
      "source": [
        "note3 = Note(\"사랑해\")"
      ],
      "metadata": {
        "id": "cta53vNy-Nol"
      },
      "execution_count": 23,
      "outputs": []
    },
    {
      "cell_type": "code",
      "source": [
        "nb = NoteBook(\"nb\")\n",
        "nb.title"
      ],
      "metadata": {
        "colab": {
          "base_uri": "https://localhost:8080/",
          "height": 35
        },
        "id": "EtfzAGgK8ixY",
        "outputId": "2822d3e5-ec0e-4b0f-d77e-d7e47cf04b50"
      },
      "execution_count": 33,
      "outputs": [
        {
          "output_type": "execute_result",
          "data": {
            "text/plain": [
              "'nb'"
            ],
            "application/vnd.google.colaboratory.intrinsic+json": {
              "type": "string"
            }
          },
          "metadata": {},
          "execution_count": 33
        }
      ]
    },
    {
      "cell_type": "code",
      "source": [
        "nb.add_note(note2)\n",
        "nb.add_note(note3, 100)"
      ],
      "metadata": {
        "id": "7EPgJtpA8uPM"
      },
      "execution_count": 34,
      "outputs": []
    },
    {
      "cell_type": "code",
      "source": [
        "nb.get_number_of_pages()"
      ],
      "metadata": {
        "colab": {
          "base_uri": "https://localhost:8080/"
        },
        "id": "OrjrfE1Q81cO",
        "outputId": "b65a72b3-80c5-49bf-c41a-4c6805f8109b"
      },
      "execution_count": 35,
      "outputs": [
        {
          "output_type": "execute_result",
          "data": {
            "text/plain": [
              "2"
            ]
          },
          "metadata": {},
          "execution_count": 35
        }
      ]
    },
    {
      "cell_type": "code",
      "source": [
        "print(nb.notes[1])"
      ],
      "metadata": {
        "colab": {
          "base_uri": "https://localhost:8080/"
        },
        "id": "weLgIu0Z-cYh",
        "outputId": "900837d2-804b-4f2a-a7d3-b56e108d47d3"
      },
      "execution_count": 36,
      "outputs": [
        {
          "output_type": "stream",
          "name": "stdout",
          "text": [
            "노트에 적힌 내용입니다 : 반가워\n"
          ]
        }
      ]
    },
    {
      "cell_type": "code",
      "source": [
        "print(nb.notes[100])"
      ],
      "metadata": {
        "colab": {
          "base_uri": "https://localhost:8080/"
        },
        "id": "20K5ahPSAF-Q",
        "outputId": "35826c17-1a71-467d-c8d2-d281f99597b6"
      },
      "execution_count": 37,
      "outputs": [
        {
          "output_type": "stream",
          "name": "stdout",
          "text": [
            "노트에 적힌 내용입니다 : 사랑해\n"
          ]
        }
      ]
    },
    {
      "cell_type": "code",
      "source": [
        "nb.notes[2] = Note(\"좋아해\")\n",
        "print(nb.notes[2])"
      ],
      "metadata": {
        "colab": {
          "base_uri": "https://localhost:8080/"
        },
        "id": "FCeDHlvVAlfQ",
        "outputId": "62a2525b-096e-4680-8f74-b1a44a804a8d"
      },
      "execution_count": 39,
      "outputs": [
        {
          "output_type": "stream",
          "name": "stdout",
          "text": [
            "노트에 적힌 내용입니다 : 좋아해\n"
          ]
        }
      ]
    }
  ]
}