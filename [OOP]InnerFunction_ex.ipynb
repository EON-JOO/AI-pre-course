{
  "nbformat": 4,
  "nbformat_minor": 0,
  "metadata": {
    "colab": {
      "name": "[OOP]InnerFunction_ex.ipynb",
      "provenance": [],
      "collapsed_sections": [],
      "authorship_tag": "ABX9TyNrAZS3YCY1OgE84vJtmhrA",
      "include_colab_link": true
    },
    "kernelspec": {
      "name": "python3",
      "display_name": "Python 3"
    },
    "language_info": {
      "name": "python"
    }
  },
  "cells": [
    {
      "cell_type": "markdown",
      "metadata": {
        "id": "view-in-github",
        "colab_type": "text"
      },
      "source": [
        "<a href=\"https://colab.research.google.com/github/EON-JOO/AI-pre-course/blob/main/%5BOOP%5DInnerFunction_ex.ipynb\" target=\"_parent\"><img src=\"https://colab.research.google.com/assets/colab-badge.svg\" alt=\"Open In Colab\"/></a>"
      ]
    },
    {
      "cell_type": "code",
      "execution_count": 1,
      "metadata": {
        "id": "TNhelm1W5GRm"
      },
      "outputs": [],
      "source": [
        "# closures : inner function을 return 값으로 반환\n",
        "\n",
        "def print_msg(msg):\n",
        "  def printer():\n",
        "    print(msg)\n",
        "  return printer"
      ]
    },
    {
      "cell_type": "code",
      "source": [
        "another = print_msg(\"Hello, Python\")\n",
        "another() # another 변수에 printer 함수가 return 되어 함수로 작동"
      ],
      "metadata": {
        "colab": {
          "base_uri": "https://localhost:8080/"
        },
        "id": "3SeW2nps5WYE",
        "outputId": "994c8a74-bca7-4081-97da-d4467b024bfa"
      },
      "execution_count": 3,
      "outputs": [
        {
          "output_type": "stream",
          "name": "stdout",
          "text": [
            "Hello, Python\n"
          ]
        }
      ]
    },
    {
      "cell_type": "markdown",
      "source": [
        "\n",
        "\n",
        "---\n",
        "\n"
      ],
      "metadata": {
        "id": "WtFbNpGB5s7Y"
      }
    },
    {
      "cell_type": "code",
      "source": [
        "def tag_func(tag, text):\n",
        "  text = text\n",
        "  tag = tag\n",
        "\n",
        "  def inner_func():\n",
        "    return '<{0}>{1}<{0}>'.format(tag, text)\n",
        "\n",
        "  return inner_func"
      ],
      "metadata": {
        "id": "BzEwwxp65c6m"
      },
      "execution_count": 4,
      "outputs": []
    },
    {
      "cell_type": "code",
      "source": [
        "h1_func = tag_func('title', \"This is Python Class\")\n",
        "p_func = tag_func('p', \"Data Academy\")"
      ],
      "metadata": {
        "id": "Y8Tra54g6CBf"
      },
      "execution_count": 5,
      "outputs": []
    },
    {
      "cell_type": "code",
      "source": [
        "h1_func()"
      ],
      "metadata": {
        "colab": {
          "base_uri": "https://localhost:8080/",
          "height": 35
        },
        "id": "nSzKn5VP6Kdu",
        "outputId": "72791b83-8488-45ef-d17c-ffe14f7db5ac"
      },
      "execution_count": 8,
      "outputs": [
        {
          "output_type": "execute_result",
          "data": {
            "text/plain": [
              "'<title>This is Python Class<title>'"
            ],
            "application/vnd.google.colaboratory.intrinsic+json": {
              "type": "string"
            }
          },
          "metadata": {},
          "execution_count": 8
        }
      ]
    },
    {
      "cell_type": "code",
      "source": [
        "p_func()"
      ],
      "metadata": {
        "colab": {
          "base_uri": "https://localhost:8080/",
          "height": 35
        },
        "id": "GCp16JLO6MVK",
        "outputId": "5368e1b2-d5ac-4695-db56-20640ccc6676"
      },
      "execution_count": 9,
      "outputs": [
        {
          "output_type": "execute_result",
          "data": {
            "text/plain": [
              "'<p>Data Academy<p>'"
            ],
            "application/vnd.google.colaboratory.intrinsic+json": {
              "type": "string"
            }
          },
          "metadata": {},
          "execution_count": 9
        }
      ]
    }
  ]
}