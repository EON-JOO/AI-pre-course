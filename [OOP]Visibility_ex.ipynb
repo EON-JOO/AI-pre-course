{
  "nbformat": 4,
  "nbformat_minor": 0,
  "metadata": {
    "colab": {
      "name": "[OOP]Visibility_ex.ipynb",
      "provenance": [],
      "collapsed_sections": [],
      "authorship_tag": "ABX9TyPAdODncSqu3Mwnh7s5E0UY",
      "include_colab_link": true
    },
    "kernelspec": {
      "name": "python3",
      "display_name": "Python 3"
    },
    "language_info": {
      "name": "python"
    }
  },
  "cells": [
    {
      "cell_type": "markdown",
      "metadata": {
        "id": "view-in-github",
        "colab_type": "text"
      },
      "source": [
        "<a href=\"https://colab.research.google.com/github/EON-JOO/AI-pre-course/blob/main/%5BOOP%5DVisibility_ex.ipynb\" target=\"_parent\"><img src=\"https://colab.research.google.com/assets/colab-badge.svg\" alt=\"Open In Colab\"/></a>"
      ]
    },
    {
      "cell_type": "markdown",
      "source": [
        "- Product 객체를 Inventory 객체에 추가\n",
        "- Inventory에는 오직 Product 객체만 들어감\n",
        "- Inventory에 Product가 몇 개인지 확인이 필요\n",
        "- Inventory에 Product items는 직접 접근이 불가"
      ],
      "metadata": {
        "id": "EYET4eFGHrBe"
      }
    },
    {
      "cell_type": "code",
      "execution_count": 1,
      "metadata": {
        "id": "kpc4mx9mFr4C"
      },
      "outputs": [],
      "source": [
        "class Product(object):\n",
        "  pass"
      ]
    },
    {
      "cell_type": "code",
      "source": [
        "class Inventory(object):\n",
        "  def __init__(self):\n",
        "    self.__items = []\n",
        "  \n",
        "  def add_new_item(self, product):\n",
        "    if type(product) == Product:\n",
        "      self.__items.append(product)\n",
        "      print(\"new item added\")\n",
        "    else:\n",
        "      raise ValueError(\"Invalid Item\")\n",
        "\n",
        "  def get_number_of_items(self):\n",
        "    return len(self.__items)"
      ],
      "metadata": {
        "id": "7W3HRzQ9F0YI"
      },
      "execution_count": 2,
      "outputs": []
    },
    {
      "cell_type": "code",
      "source": [
        "my_inventory = Inventory()\n",
        "my_inventory.add_new_item(Product())\n",
        "my_inventory.add_new_item(Product())\n",
        "print(my_inventory.get_number_of_items())"
      ],
      "metadata": {
        "colab": {
          "base_uri": "https://localhost:8080/"
        },
        "id": "sEu57w0bGbNR",
        "outputId": "dcabc2e6-c6e0-49e2-97d7-cd124741ac9a"
      },
      "execution_count": 4,
      "outputs": [
        {
          "output_type": "stream",
          "name": "stdout",
          "text": [
            "new item added\n",
            "new item added\n",
            "2\n"
          ]
        }
      ]
    },
    {
      "cell_type": "code",
      "source": [
        "print(my_inventory.__items) # 접근이 안돼"
      ],
      "metadata": {
        "colab": {
          "base_uri": "https://localhost:8080/",
          "height": 172
        },
        "id": "DTNiwxHyGpq8",
        "outputId": "93b09c1e-4a54-4753-b9c6-85b9d7c261e6"
      },
      "execution_count": 8,
      "outputs": [
        {
          "output_type": "error",
          "ename": "AttributeError",
          "evalue": "ignored",
          "traceback": [
            "\u001b[0;31m---------------------------------------------------------------------------\u001b[0m",
            "\u001b[0;31mAttributeError\u001b[0m                            Traceback (most recent call last)",
            "\u001b[0;32m<ipython-input-8-556f8c6eb3d0>\u001b[0m in \u001b[0;36m<module>\u001b[0;34m()\u001b[0m\n\u001b[0;32m----> 1\u001b[0;31m \u001b[0mprint\u001b[0m\u001b[0;34m(\u001b[0m\u001b[0mmy_inventory\u001b[0m\u001b[0;34m.\u001b[0m\u001b[0m__items\u001b[0m\u001b[0;34m)\u001b[0m \u001b[0;31m# 접근이 안돼\u001b[0m\u001b[0;34m\u001b[0m\u001b[0;34m\u001b[0m\u001b[0m\n\u001b[0m",
            "\u001b[0;31mAttributeError\u001b[0m: 'Inventory' object has no attribute '__items'"
          ]
        }
      ]
    },
    {
      "cell_type": "code",
      "source": [
        "my_inventory.add_new_item(object) # Product 객체만 들어갈 수 있음"
      ],
      "metadata": {
        "colab": {
          "base_uri": "https://localhost:8080/",
          "height": 299
        },
        "id": "SdSDzKWTG6uZ",
        "outputId": "5da3b57b-d383-48c3-8bda-969b0ee85579"
      },
      "execution_count": 9,
      "outputs": [
        {
          "output_type": "error",
          "ename": "ValueError",
          "evalue": "ignored",
          "traceback": [
            "\u001b[0;31m---------------------------------------------------------------------------\u001b[0m",
            "\u001b[0;31mValueError\u001b[0m                                Traceback (most recent call last)",
            "\u001b[0;32m<ipython-input-9-79956cc78639>\u001b[0m in \u001b[0;36m<module>\u001b[0;34m()\u001b[0m\n\u001b[0;32m----> 1\u001b[0;31m \u001b[0mmy_inventory\u001b[0m\u001b[0;34m.\u001b[0m\u001b[0madd_new_item\u001b[0m\u001b[0;34m(\u001b[0m\u001b[0mobject\u001b[0m\u001b[0;34m)\u001b[0m\u001b[0;34m\u001b[0m\u001b[0;34m\u001b[0m\u001b[0m\n\u001b[0m",
            "\u001b[0;32m<ipython-input-2-73884c7b4370>\u001b[0m in \u001b[0;36madd_new_item\u001b[0;34m(self, product)\u001b[0m\n\u001b[1;32m      8\u001b[0m       \u001b[0mprint\u001b[0m\u001b[0;34m(\u001b[0m\u001b[0;34m\"new item added\"\u001b[0m\u001b[0;34m)\u001b[0m\u001b[0;34m\u001b[0m\u001b[0;34m\u001b[0m\u001b[0m\n\u001b[1;32m      9\u001b[0m     \u001b[0;32melse\u001b[0m\u001b[0;34m:\u001b[0m\u001b[0;34m\u001b[0m\u001b[0;34m\u001b[0m\u001b[0m\n\u001b[0;32m---> 10\u001b[0;31m       \u001b[0;32mraise\u001b[0m \u001b[0mValueError\u001b[0m\u001b[0;34m(\u001b[0m\u001b[0;34m\"Invalid Item\"\u001b[0m\u001b[0;34m)\u001b[0m\u001b[0;34m\u001b[0m\u001b[0;34m\u001b[0m\u001b[0m\n\u001b[0m\u001b[1;32m     11\u001b[0m \u001b[0;34m\u001b[0m\u001b[0m\n\u001b[1;32m     12\u001b[0m   \u001b[0;32mdef\u001b[0m \u001b[0mget_number_of_items\u001b[0m\u001b[0;34m(\u001b[0m\u001b[0mself\u001b[0m\u001b[0;34m)\u001b[0m\u001b[0;34m:\u001b[0m\u001b[0;34m\u001b[0m\u001b[0;34m\u001b[0m\u001b[0m\n",
            "\u001b[0;31mValueError\u001b[0m: Invalid Item"
          ]
        }
      ]
    }
  ]
}