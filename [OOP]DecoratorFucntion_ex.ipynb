{
  "nbformat": 4,
  "nbformat_minor": 0,
  "metadata": {
    "colab": {
      "name": "[OOP]DecoratorFucntion_ex.ipynb",
      "provenance": [],
      "collapsed_sections": [],
      "authorship_tag": "ABX9TyPaF11a2vRJHegTzCLAQHju",
      "include_colab_link": true
    },
    "kernelspec": {
      "name": "python3",
      "display_name": "Python 3"
    },
    "language_info": {
      "name": "python"
    }
  },
  "cells": [
    {
      "cell_type": "markdown",
      "metadata": {
        "id": "view-in-github",
        "colab_type": "text"
      },
      "source": [
        "<a href=\"https://colab.research.google.com/github/EON-JOO/AI-pre-course/blob/main/%5BOOP%5DDecoratorFucntion_ex.ipynb\" target=\"_parent\"><img src=\"https://colab.research.google.com/assets/colab-badge.svg\" alt=\"Open In Colab\"/></a>"
      ]
    },
    {
      "cell_type": "code",
      "execution_count": 1,
      "metadata": {
        "id": "YDOvYuur6uVg"
      },
      "outputs": [],
      "source": [
        "# decorator function : 복잡한 closure 함수를 간단하게!\n",
        "\n",
        "def star(func):\n",
        "  def inner(*args, **kwargs):\n",
        "    print(\"*\" * 10)\n",
        "    func(*args, **kwargs)\n",
        "    print(\"*\" * 10)\n",
        "  return inner\n",
        "\n",
        "@star\n",
        "def printer(msg):\n",
        "  print(msg)"
      ]
    },
    {
      "cell_type": "code",
      "source": [
        "printer(\"Hello\")"
      ],
      "metadata": {
        "colab": {
          "base_uri": "https://localhost:8080/"
        },
        "id": "GdlQsOo-7RxH",
        "outputId": "6775b6ac-702a-46ab-f2b5-bb65c099a2cd"
      },
      "execution_count": 2,
      "outputs": [
        {
          "output_type": "stream",
          "name": "stdout",
          "text": [
            "**********\n",
            "Hello\n",
            "**********\n"
          ]
        }
      ]
    },
    {
      "cell_type": "markdown",
      "source": [
        "\n",
        "\n",
        "---\n",
        "\n"
      ],
      "metadata": {
        "id": "MkHnWi2C8gV3"
      }
    },
    {
      "cell_type": "code",
      "source": [
        "def star(func):\n",
        "  def inner(*args, **kwargs):\n",
        "    print('*' * 10)\n",
        "    func(*args, **kwargs)\n",
        "    print('*' * 10)\n",
        "  return inner\n",
        "\n",
        "def percent(func):\n",
        "  def inner(*args, **kwargs):\n",
        "    print('%' * 10)\n",
        "    func(*args, **kwargs)\n",
        "    print('%' * 10)\n",
        "  return inner\n",
        "\n",
        "@star\n",
        "@percent\n",
        "def printer(msg):\n",
        "  print(msg)"
      ],
      "metadata": {
        "id": "ZJ5gQJbL7XOz"
      },
      "execution_count": 3,
      "outputs": []
    },
    {
      "cell_type": "code",
      "source": [
        "printer('Hello')"
      ],
      "metadata": {
        "colab": {
          "base_uri": "https://localhost:8080/"
        },
        "id": "S0wB6QZZ9BCj",
        "outputId": "2a90a5e3-cbc5-447d-d36f-0b405e0fb377"
      },
      "execution_count": 4,
      "outputs": [
        {
          "output_type": "stream",
          "name": "stdout",
          "text": [
            "**********\n",
            "%%%%%%%%%%\n",
            "Hello\n",
            "%%%%%%%%%%\n",
            "**********\n"
          ]
        }
      ]
    },
    {
      "cell_type": "markdown",
      "source": [
        "\n",
        "\n",
        "---\n",
        "\n",
        "\n",
        "\n",
        "---\n",
        "\n"
      ],
      "metadata": {
        "id": "jmz9_2m-9Emj"
      }
    },
    {
      "cell_type": "code",
      "source": [
        "def generate_power(exponent):\n",
        "  def wrapper(f):\n",
        "    def inner(*args):\n",
        "      result = f(*args)\n",
        "      return exponent ** result\n",
        "    return inner\n",
        "  return wrapper\n",
        "\n",
        "@generate_power(2)\n",
        "def raise_two(n):\n",
        "  return n ** 2"
      ],
      "metadata": {
        "id": "6iNVkG6z9Cwl"
      },
      "execution_count": 5,
      "outputs": []
    },
    {
      "cell_type": "code",
      "source": [
        "print(raise_two(7))"
      ],
      "metadata": {
        "colab": {
          "base_uri": "https://localhost:8080/"
        },
        "id": "met68CLX9sBE",
        "outputId": "5e0d8187-8d29-46ec-be3c-bdfddb512167"
      },
      "execution_count": 6,
      "outputs": [
        {
          "output_type": "stream",
          "name": "stdout",
          "text": [
            "562949953421312\n"
          ]
        }
      ]
    },
    {
      "cell_type": "code",
      "source": [
        "2 ** (7 ** 2)"
      ],
      "metadata": {
        "colab": {
          "base_uri": "https://localhost:8080/"
        },
        "id": "pYrlCJqs9vWd",
        "outputId": "cdcee219-24fb-45f5-8835-2bcb7dd7bcc0"
      },
      "execution_count": 7,
      "outputs": [
        {
          "output_type": "execute_result",
          "data": {
            "text/plain": [
              "562949953421312"
            ]
          },
          "metadata": {},
          "execution_count": 7
        }
      ]
    }
  ]
}