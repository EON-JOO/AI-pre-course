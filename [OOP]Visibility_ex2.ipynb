{
  "nbformat": 4,
  "nbformat_minor": 0,
  "metadata": {
    "colab": {
      "name": "[OOP]Visibility_ex2.ipynb",
      "provenance": [],
      "collapsed_sections": [],
      "authorship_tag": "ABX9TyOhPFwU8QDkAjAOSwhqIEsM",
      "include_colab_link": true
    },
    "kernelspec": {
      "name": "python3",
      "display_name": "Python 3"
    },
    "language_info": {
      "name": "python"
    }
  },
  "cells": [
    {
      "cell_type": "markdown",
      "metadata": {
        "id": "view-in-github",
        "colab_type": "text"
      },
      "source": [
        "<a href=\"https://colab.research.google.com/github/EON-JOO/AI-pre-course/blob/main/%5BOOP%5DVisibility_ex2.ipynb\" target=\"_parent\"><img src=\"https://colab.research.google.com/assets/colab-badge.svg\" alt=\"Open In Colab\"/></a>"
      ]
    },
    {
      "cell_type": "markdown",
      "source": [
        "- Product 객체를 Inventory 객체에 추가\n",
        "- Inventory에는 오직 Product 객체만 들어감\n",
        "- Inventory에 Product가 몇 개인지 확인이 필요\n",
        "- Inventory에 Product items 접근 허용"
      ],
      "metadata": {
        "id": "qelj9jnoIco0"
      }
    },
    {
      "cell_type": "code",
      "execution_count": 1,
      "metadata": {
        "id": "9PHPNbvrIb4l"
      },
      "outputs": [],
      "source": [
        "class Product(object):\n",
        "  pass"
      ]
    },
    {
      "cell_type": "code",
      "source": [
        "class Inventory(object):\n",
        "  def __init__(self):\n",
        "    self.__items = []\n",
        "\n",
        "  def add_new_item(self, product):\n",
        "    if type(product) == Product:\n",
        "      self.__items.append(product)\n",
        "      print(\"new item added\")\n",
        "\n",
        "  def get_number_of_items(self):\n",
        "    return len(self.__items)\n",
        "  \n",
        "  @property\n",
        "  def items(self):\n",
        "    return self.__items"
      ],
      "metadata": {
        "id": "tMgcXHbvIuja"
      },
      "execution_count": 5,
      "outputs": []
    },
    {
      "cell_type": "code",
      "source": [
        "my_inventory = Inventory()\n",
        "my_inventory.add_new_item(Product())\n",
        "my_inventory.add_new_item(Product())\n",
        "print(my_inventory.get_number_of_items())"
      ],
      "metadata": {
        "colab": {
          "base_uri": "https://localhost:8080/"
        },
        "id": "yhKwHr72JEN_",
        "outputId": "5b097949-1e34-4d12-d256-b4508097858c"
      },
      "execution_count": 9,
      "outputs": [
        {
          "output_type": "stream",
          "name": "stdout",
          "text": [
            "new item added\n",
            "new item added\n",
            "2\n"
          ]
        }
      ]
    },
    {
      "cell_type": "code",
      "source": [
        "items = my_inventory.items\n",
        "items.append(Product())\n",
        "print(my_inventory.get_number_of_items())"
      ],
      "metadata": {
        "colab": {
          "base_uri": "https://localhost:8080/"
        },
        "id": "2qLkvxN8Jsic",
        "outputId": "c420716d-6941-4f01-be84-916fad6d455f"
      },
      "execution_count": 10,
      "outputs": [
        {
          "output_type": "stream",
          "name": "stdout",
          "text": [
            "3\n"
          ]
        }
      ]
    }
  ]
}